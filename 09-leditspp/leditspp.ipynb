{
 "cells": [
  {
   "cell_type": "code",
   "execution_count": 1,
   "metadata": {},
   "outputs": [],
   "source": [
    "import os\n",
    "\n",
    "os.environ[\"HF_ENDPOINT\"] = \"https://hf-mirror.com\"\n",
    "device = \"cuda:4\"\n",
    "sd_version = \"runwayml/stable-diffusion-v1-5\""
   ]
  },
  {
   "cell_type": "code",
   "execution_count": null,
   "metadata": {},
   "outputs": [],
   "source": [
    "import torch\n",
    "\n",
    "from diffusers import LEditsPPPipelineStableDiffusion\n",
    "from diffusers.utils import load_image\n",
    "\n",
    "pipe = LEditsPPPipelineStableDiffusion.from_pretrained(\n",
    "    sd_version, torch_dtype=torch.float16\n",
    ").to(device)\n",
    "\n",
    "img_url = \"cherry_blossom.png\"\n",
    "image = load_image(img_url).convert(\"RGB\").resize((512, 512))\n",
    "\n",
    "_ = pipe.invert(image=image, num_inversion_steps=50, skip=0.1)\n",
    "\n",
    "edited_image = pipe(\n",
    "    editing_prompt=[\"cherry blossom\"], edit_guidance_scale=10.0, edit_threshold=0.75\n",
    ").images[0]"
   ]
  },
  {
   "cell_type": "code",
   "execution_count": null,
   "metadata": {},
   "outputs": [],
   "source": [
    "edited_image"
   ]
  },
  {
   "cell_type": "code",
   "execution_count": null,
   "metadata": {},
   "outputs": [],
   "source": []
  }
 ],
 "metadata": {
  "kernelspec": {
   "display_name": "tie",
   "language": "python",
   "name": "python3"
  },
  "language_info": {
   "codemirror_mode": {
    "name": "ipython",
    "version": 3
   },
   "file_extension": ".py",
   "mimetype": "text/x-python",
   "name": "python",
   "nbconvert_exporter": "python",
   "pygments_lexer": "ipython3",
   "version": "3.10.16"
  }
 },
 "nbformat": 4,
 "nbformat_minor": 2
}
